{
 "cells": [
  {
   "cell_type": "markdown",
   "metadata": {},
   "source": [
    "### 1.0 Import dependencies and setup helper functions."
   ]
  },
  {
   "cell_type": "code",
   "execution_count": 3,
   "metadata": {},
   "outputs": [],
   "source": [
    "import cbor\n",
    "import hashlib\n",
    "import multihash\n",
    "from cid import make_cid\n",
    "from multibase import encode, decode\n",
    "\n",
    "# Returns the SHA256 hash (bytes) of a buffer.\n",
    "def sha256(buf):\n",
    "    h = hashlib.sha256()\n",
    "    h.update(buf)\n",
    "\n",
    "    return h.digest()\n",
    "\n",
    "# Returns the SHA256 hash (bytes) of an object.\n",
    "def obj_to_sha256(obj):\n",
    "    obj_cbor = cbor.dumps(obj)\n",
    "    obj_sha256 = sha256(obj_cbor)\n",
    "    \n",
    "    return obj_sha256\n",
    "\n",
    "# Returns the Multihash encoding of a SHA256 hash.\n",
    "def sha256_to_mh(h):\n",
    "    mh = multihash.encode(h, code='sha2-256')\n",
    "\n",
    "    return mh\n",
    "\n",
    "# Returns the content identifier for a multihash\n",
    "def mh_to_cid(mh):\n",
    "    prefix = {\n",
    "        'dag-cbor': b'\\x71',\n",
    "        'cidv1': b'\\x01',\n",
    "    }\n",
    "    return prefix['cidv1'] + prefix['dag-cbor'] + mh"
   ]
  },
  {
   "cell_type": "markdown",
   "metadata": {},
   "source": [
    "### 2.0 Convert object -> CBOR then hash (SHA2-256)"
   ]
  },
  {
   "cell_type": "code",
   "execution_count": 4,
   "metadata": {},
   "outputs": [],
   "source": [
    "# Initial object\n",
    "helloWorld = {'hello': 'world'}\n",
    "\n",
    "# SHA256 hash of object\n",
    "helloWorld_sha256 = obj_to_sha256(helloWorld)"
   ]
  },
  {
   "cell_type": "markdown",
   "metadata": {},
   "source": [
    "### 2.1 Convert hash -> multihash"
   ]
  },
  {
   "cell_type": "code",
   "execution_count": 5,
   "metadata": {},
   "outputs": [],
   "source": [
    "# Multihash\n",
    "helloWorld_mh = sha256_to_mh(helloWorld_sha256)"
   ]
  },
  {
   "cell_type": "markdown",
   "metadata": {},
   "source": [
    "### 2.2 Prefix multihash with CIDv1 + DAG-CBOR bytes."
   ]
  },
  {
   "cell_type": "code",
   "execution_count": 6,
   "metadata": {},
   "outputs": [],
   "source": [
    "# CID\n",
    "helloWorld_cid = mh_to_cid(helloWorld_mh)"
   ]
  },
  {
   "cell_type": "markdown",
   "metadata": {},
   "source": [
    "### 2.3 Apply base conversion encoding."
   ]
  },
  {
   "cell_type": "code",
   "execution_count": 7,
   "metadata": {},
   "outputs": [
    {
     "name": "stdout",
     "output_type": "stream",
     "text": [
      "bafyreidykglsfhoixmivffc5uwhcgshx4j465xwqntbmu43nb2dzqwfvae\n"
     ]
    }
   ],
   "source": [
    "# CID: Encoded\n",
    "helloWorld_base32 = encode('base32', helloWorld_cid).decode('utf-8')\n",
    "\n",
    "# ipfs dag get bafyreidykglsfhoixmivffc5uwhcgshx4j465xwqntbmu43nb2dzqwfvae\n",
    "print(helloWorld_base32)"
   ]
  }
 ],
 "metadata": {
  "kernelspec": {
   "display_name": "Python 3",
   "language": "python",
   "name": "python3"
  },
  "language_info": {
   "codemirror_mode": {
    "name": "ipython",
    "version": 3
   },
   "file_extension": ".py",
   "mimetype": "text/x-python",
   "name": "python",
   "nbconvert_exporter": "python",
   "pygments_lexer": "ipython3",
   "version": "3.8.1"
  }
 },
 "nbformat": 4,
 "nbformat_minor": 2
}
